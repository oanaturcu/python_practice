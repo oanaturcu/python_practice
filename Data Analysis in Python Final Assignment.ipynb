{
    "cells": [
        {
            "metadata": {},
            "cell_type": "markdown",
            "source": "<center>\n    <img src=\"https://s3-api.us-geo.objectstorage.softlayer.net/cf-courses-data/CognitiveClass/Logos/organization_logo/organization_logo.png\" width=\"300\" alt=\"cognitiveclass.ai logo\"  />\n</center>\n\n# Analyzing Where Do People Drink?\n\nEstimated time needed: **30** minutes\n\n## Objectives\n\nAfter completing this lab you will be able to:\n\n-   Be confident about your data analysis skills\n"
        },
        {
            "metadata": {},
            "cell_type": "markdown",
            "source": "This Dataset is from the story <a href=https://fivethirtyeight.com/features/dear-mona-followup-where-do-people-drink-the-most-beer-wine-and-spirits/>  Dear Mona Followup: Where Do People Drink The Most Beer, Wine And Spirits? </a>  The dataset contains Average serving sizes per person such as average wine, spirit, beer servings. As well as several other metrics. You will be asked to analyze the data and predict the total liters served given the servings. See how to share your lab at the end.\n"
        },
        {
            "metadata": {},
            "cell_type": "markdown",
            "source": "You will need the following libraries:\n"
        },
        {
            "metadata": {},
            "cell_type": "code",
            "source": "import pandas as pd\nimport numpy as np\nimport matplotlib.pyplot as plt\nimport matplotlib as mpl\nimport seaborn as sns \nfrom sklearn.linear_model import LinearRegression",
            "execution_count": 109,
            "outputs": []
        },
        {
            "metadata": {},
            "cell_type": "markdown",
            "source": "<b>1.0 Importing the Data</b>\n"
        },
        {
            "metadata": {},
            "cell_type": "markdown",
            "source": "Load the csv:\n"
        },
        {
            "metadata": {},
            "cell_type": "code",
            "source": "df= pd.read_csv('https://s3-api.us-geo.objectstorage.softlayer.net/cf-courses-data/CognitiveClass/DA0101EN/edx/project/drinks.csv')\n\n",
            "execution_count": 110,
            "outputs": []
        },
        {
            "metadata": {},
            "cell_type": "markdown",
            "source": "We use the method  <code>head()</code>  to display the first 5 columns of the dataframe:\n"
        },
        {
            "metadata": {},
            "cell_type": "code",
            "source": "df.head()",
            "execution_count": 111,
            "outputs": [
                {
                    "output_type": "execute_result",
                    "execution_count": 111,
                    "data": {
                        "text/plain": "       country  beer_servings  spirit_servings  wine_servings  \\\n0  Afghanistan              0                0              0   \n1      Albania             89              132             54   \n2      Algeria             25                0             14   \n3      Andorra            245              138            312   \n4       Angola            217               57             45   \n\n   total_litres_of_pure_alcohol continent  \n0                           0.0      Asia  \n1                           4.9    Europe  \n2                           0.7    Africa  \n3                          12.4    Europe  \n4                           5.9    Africa  ",
                        "text/html": "<div>\n<style scoped>\n    .dataframe tbody tr th:only-of-type {\n        vertical-align: middle;\n    }\n\n    .dataframe tbody tr th {\n        vertical-align: top;\n    }\n\n    .dataframe thead th {\n        text-align: right;\n    }\n</style>\n<table border=\"1\" class=\"dataframe\">\n  <thead>\n    <tr style=\"text-align: right;\">\n      <th></th>\n      <th>country</th>\n      <th>beer_servings</th>\n      <th>spirit_servings</th>\n      <th>wine_servings</th>\n      <th>total_litres_of_pure_alcohol</th>\n      <th>continent</th>\n    </tr>\n  </thead>\n  <tbody>\n    <tr>\n      <th>0</th>\n      <td>Afghanistan</td>\n      <td>0</td>\n      <td>0</td>\n      <td>0</td>\n      <td>0.0</td>\n      <td>Asia</td>\n    </tr>\n    <tr>\n      <th>1</th>\n      <td>Albania</td>\n      <td>89</td>\n      <td>132</td>\n      <td>54</td>\n      <td>4.9</td>\n      <td>Europe</td>\n    </tr>\n    <tr>\n      <th>2</th>\n      <td>Algeria</td>\n      <td>25</td>\n      <td>0</td>\n      <td>14</td>\n      <td>0.7</td>\n      <td>Africa</td>\n    </tr>\n    <tr>\n      <th>3</th>\n      <td>Andorra</td>\n      <td>245</td>\n      <td>138</td>\n      <td>312</td>\n      <td>12.4</td>\n      <td>Europe</td>\n    </tr>\n    <tr>\n      <th>4</th>\n      <td>Angola</td>\n      <td>217</td>\n      <td>57</td>\n      <td>45</td>\n      <td>5.9</td>\n      <td>Africa</td>\n    </tr>\n  </tbody>\n</table>\n</div>"
                    },
                    "metadata": {}
                }
            ]
        },
        {
            "metadata": {},
            "cell_type": "markdown",
            "source": "<b>Question 1</b>:  Display the data types of each column using the attribute\u202fdtype.\n"
        },
        {
            "metadata": {},
            "cell_type": "code",
            "source": "df.dtypes",
            "execution_count": 112,
            "outputs": [
                {
                    "output_type": "execute_result",
                    "execution_count": 112,
                    "data": {
                        "text/plain": "country                          object\nbeer_servings                     int64\nspirit_servings                   int64\nwine_servings                     int64\ntotal_litres_of_pure_alcohol    float64\ncontinent                        object\ndtype: object"
                    },
                    "metadata": {}
                }
            ]
        },
        {
            "metadata": {},
            "cell_type": "markdown",
            "source": "<b>Question 2</b> use the method\u202f<code>groupby</code> to get the number of wine servings per continent:\n"
        },
        {
            "metadata": {},
            "cell_type": "code",
            "source": "df[['continent','wine_servings']].groupby(df['continent'], as_index=True).sum()",
            "execution_count": 113,
            "outputs": [
                {
                    "output_type": "execute_result",
                    "execution_count": 113,
                    "data": {
                        "text/plain": "               wine_servings\ncontinent                   \nAfrica                   862\nAsia                     399\nEurope                  6400\nNorth America            564\nOceania                  570\nSouth America            749",
                        "text/html": "<div>\n<style scoped>\n    .dataframe tbody tr th:only-of-type {\n        vertical-align: middle;\n    }\n\n    .dataframe tbody tr th {\n        vertical-align: top;\n    }\n\n    .dataframe thead th {\n        text-align: right;\n    }\n</style>\n<table border=\"1\" class=\"dataframe\">\n  <thead>\n    <tr style=\"text-align: right;\">\n      <th></th>\n      <th>wine_servings</th>\n    </tr>\n    <tr>\n      <th>continent</th>\n      <th></th>\n    </tr>\n  </thead>\n  <tbody>\n    <tr>\n      <th>Africa</th>\n      <td>862</td>\n    </tr>\n    <tr>\n      <th>Asia</th>\n      <td>399</td>\n    </tr>\n    <tr>\n      <th>Europe</th>\n      <td>6400</td>\n    </tr>\n    <tr>\n      <th>North America</th>\n      <td>564</td>\n    </tr>\n    <tr>\n      <th>Oceania</th>\n      <td>570</td>\n    </tr>\n    <tr>\n      <th>South America</th>\n      <td>749</td>\n    </tr>\n  </tbody>\n</table>\n</div>"
                    },
                    "metadata": {}
                }
            ]
        },
        {
            "metadata": {},
            "cell_type": "markdown",
            "source": "<b>Question 3:</b> Perform a statistical summary and analysis of beer servings for each continent:\n"
        },
        {
            "metadata": {},
            "cell_type": "code",
            "source": "df[['continent','beer_servings']].groupby(df['continent'], as_index=True).describe()",
            "execution_count": 114,
            "outputs": [
                {
                    "output_type": "execute_result",
                    "execution_count": 114,
                    "data": {
                        "text/plain": "              beer_servings                                              \\\n                      count        mean        std   min     25%    50%   \ncontinent                                                                 \nAfrica                 53.0   61.471698  80.557816   0.0   15.00   32.0   \nAsia                   44.0   37.045455  49.469725   0.0    4.25   17.5   \nEurope                 45.0  193.777778  99.631569   0.0  127.00  219.0   \nNorth America          23.0  145.434783  79.621163   1.0   80.00  143.0   \nOceania                16.0   89.687500  96.641412   0.0   21.00   52.5   \nSouth America          12.0  175.083333  65.242845  93.0  129.50  162.5   \n\n                              \n                  75%    max  \ncontinent                     \nAfrica          76.00  376.0  \nAsia            60.50  247.0  \nEurope         270.00  361.0  \nNorth America  198.00  285.0  \nOceania        125.75  306.0  \nSouth America  198.00  333.0  ",
                        "text/html": "<div>\n<style scoped>\n    .dataframe tbody tr th:only-of-type {\n        vertical-align: middle;\n    }\n\n    .dataframe tbody tr th {\n        vertical-align: top;\n    }\n\n    .dataframe thead tr th {\n        text-align: left;\n    }\n\n    .dataframe thead tr:last-of-type th {\n        text-align: right;\n    }\n</style>\n<table border=\"1\" class=\"dataframe\">\n  <thead>\n    <tr>\n      <th></th>\n      <th colspan=\"8\" halign=\"left\">beer_servings</th>\n    </tr>\n    <tr>\n      <th></th>\n      <th>count</th>\n      <th>mean</th>\n      <th>std</th>\n      <th>min</th>\n      <th>25%</th>\n      <th>50%</th>\n      <th>75%</th>\n      <th>max</th>\n    </tr>\n    <tr>\n      <th>continent</th>\n      <th></th>\n      <th></th>\n      <th></th>\n      <th></th>\n      <th></th>\n      <th></th>\n      <th></th>\n      <th></th>\n    </tr>\n  </thead>\n  <tbody>\n    <tr>\n      <th>Africa</th>\n      <td>53.0</td>\n      <td>61.471698</td>\n      <td>80.557816</td>\n      <td>0.0</td>\n      <td>15.00</td>\n      <td>32.0</td>\n      <td>76.00</td>\n      <td>376.0</td>\n    </tr>\n    <tr>\n      <th>Asia</th>\n      <td>44.0</td>\n      <td>37.045455</td>\n      <td>49.469725</td>\n      <td>0.0</td>\n      <td>4.25</td>\n      <td>17.5</td>\n      <td>60.50</td>\n      <td>247.0</td>\n    </tr>\n    <tr>\n      <th>Europe</th>\n      <td>45.0</td>\n      <td>193.777778</td>\n      <td>99.631569</td>\n      <td>0.0</td>\n      <td>127.00</td>\n      <td>219.0</td>\n      <td>270.00</td>\n      <td>361.0</td>\n    </tr>\n    <tr>\n      <th>North America</th>\n      <td>23.0</td>\n      <td>145.434783</td>\n      <td>79.621163</td>\n      <td>1.0</td>\n      <td>80.00</td>\n      <td>143.0</td>\n      <td>198.00</td>\n      <td>285.0</td>\n    </tr>\n    <tr>\n      <th>Oceania</th>\n      <td>16.0</td>\n      <td>89.687500</td>\n      <td>96.641412</td>\n      <td>0.0</td>\n      <td>21.00</td>\n      <td>52.5</td>\n      <td>125.75</td>\n      <td>306.0</td>\n    </tr>\n    <tr>\n      <th>South America</th>\n      <td>12.0</td>\n      <td>175.083333</td>\n      <td>65.242845</td>\n      <td>93.0</td>\n      <td>129.50</td>\n      <td>162.5</td>\n      <td>198.00</td>\n      <td>333.0</td>\n    </tr>\n  </tbody>\n</table>\n</div>"
                    },
                    "metadata": {}
                }
            ]
        },
        {
            "metadata": {},
            "cell_type": "markdown",
            "source": "<b>Question 4:</b> Use the function\u202fboxplot\u202fin the seaborn library to produce a plot that can be used to show the number of beer servings on each continent.\n"
        },
        {
            "metadata": {},
            "cell_type": "code",
            "source": "sns.boxplot(x=\"continent\", y=\"beer_servings\", data=df)",
            "execution_count": 115,
            "outputs": [
                {
                    "output_type": "execute_result",
                    "execution_count": 115,
                    "data": {
                        "text/plain": "<matplotlib.axes._subplots.AxesSubplot at 0x7f68b0be3358>"
                    },
                    "metadata": {}
                },
                {
                    "output_type": "display_data",
                    "data": {
                        "text/plain": "<Figure size 432x288 with 1 Axes>",
                        "image/png": "[encoded data removed]"
                    },
                    "metadata": {
                        "needs_background": "light"
                    }
                }
            ]
        },
        {
            "metadata": {},
            "cell_type": "markdown",
            "source": "<b>Question 5</b>: Use the function\u202f<code> regplot</code> in the seaborn library to determine if the number of wine servings is\nnegatively or positively correlated with the number of beer servings.\n"
        },
        {
            "metadata": {},
            "cell_type": "code",
            "source": "sns.regplot(x=\"beer_servings\", y=\"wine_servings\", data=df)\n",
            "execution_count": 116,
            "outputs": [
                {
                    "output_type": "execute_result",
                    "execution_count": 116,
                    "data": {
                        "text/plain": "<matplotlib.axes._subplots.AxesSubplot at 0x7f68b0cb7a20>"
                    },
                    "metadata": {}
                },
                {
                    "output_type": "display_data",
                    "data": {
                        "text/plain": "<Figure size 432x288 with 1 Axes>",
                        "image/png": "[encoded data removed]"
                    },
                    "metadata": {
                        "needs_background": "light"
                    }
                }
            ]
        },
        {
            "metadata": {},
            "cell_type": "markdown",
            "source": "<b> Question 6:</b> Fit a linear regression model to predict the <code>'total_litres_of_pure_alcohol'</code> using the number of <code>'wine_servings'</code> then calculate $R^{2}$:\n"
        },
        {
            "metadata": {},
            "cell_type": "code",
            "source": "#encode country and continent names - some country names produce an error later on when fitting the regressors\n\nfrom sklearn import preprocessing\nle = preprocessing.LabelEncoder()\ndf.country = le.fit_transform(list(df[\"country\"]))\ndf.continent = le.fit_transform(list(df[\"continent\"]))\n\n\nlr = LinearRegression()\nlr.fit(df[['wine_servings']], df[['total_litres_of_pure_alcohol']])\nprint('The R-square is: ', lr.score(df[['wine_servings']], df[['total_litres_of_pure_alcohol']]))",
            "execution_count": 117,
            "outputs": [
                {
                    "output_type": "stream",
                    "text": "The R-square is:  0.4456875459787605\n",
                    "name": "stdout"
                }
            ]
        },
        {
            "metadata": {},
            "cell_type": "markdown",
            "source": "<br>\n<b>Note:</b> Please use <code>test_size = 0.10</code> in the following questions.\n"
        },
        {
            "metadata": {},
            "cell_type": "markdown",
            "source": "### Question 7\n\nUse the list of features to predict the <code>'total_litres_of_pure_alcohol'</code>, split the data into training and testing and determine the $R^2$ on the test data, using the provided code:\n"
        },
        {
            "metadata": {},
            "cell_type": "code",
            "source": "from sklearn.linear_model import LinearRegression\nfrom sklearn.model_selection import train_test_split\n\n\n\ny_data = df['total_litres_of_pure_alcohol']\nx_data=df.drop('total_litres_of_pure_alcohol', axis = 1)\n\nx_train, x_test, y_train, y_test = train_test_split(x_data, y_data, test_size=0.10, random_state=1)\n\nlr1 = LinearRegression()\nlr1.fit(x_train, y_train)\nscore = lr1.score(x_test, y_test)\nprint ('The R-square is:', score) ",
            "execution_count": 118,
            "outputs": [
                {
                    "output_type": "stream",
                    "text": "The R-square is: 0.6385580539537139\n",
                    "name": "stdout"
                }
            ]
        },
        {
            "metadata": {},
            "cell_type": "markdown",
            "source": "<b>Question 8 :</b> Create a pipeline object that scales the data, performs a polynomial transform and fits a linear regression model. Fit the object using the training data in the question above, then calculate the R^2 using. the test data. Take a screenshot of your code and the $R^{2}$. There are some hints in the notebook:\n"
        },
        {
            "metadata": {},
            "cell_type": "markdown",
            "source": "<code>'scale'</code>\n\n<code>'polynomial'</code>\n\n<code>'model'</code>\n\nThe second element in the tuple contains the model constructor\n\n<code>StandardScaler()</code>\n\n<code>PolynomialFeatures(include_bias=False)</code>\n\n<code>LinearRegression()</code>\n"
        },
        {
            "metadata": {},
            "cell_type": "code",
            "source": "from sklearn.pipeline import Pipeline\nfrom sklearn.preprocessing import StandardScaler,PolynomialFeatures\n\nInput=[('scale',StandardScaler()), ('polynomial', PolynomialFeatures(include_bias=False)), ('model',LinearRegression())]\npipe=Pipeline(Input)\npipe.fit(x_train, y_train)\nypipe=pipe.predict(x_test)\nprint('The R-square is: ', pipe.score(x_test, y_test))\n",
            "execution_count": 119,
            "outputs": [
                {
                    "output_type": "stream",
                    "text": "The R-square is:  0.7100447478443462\n",
                    "name": "stdout"
                },
                {
                    "output_type": "stream",
                    "text": "/opt/conda/envs/Python36/lib/python3.6/site-packages/sklearn/preprocessing/data.py:645: DataConversionWarning: Data with input dtype int64 were all converted to float64 by StandardScaler.\n  return self.partial_fit(X, y)\n/opt/conda/envs/Python36/lib/python3.6/site-packages/sklearn/base.py:467: DataConversionWarning: Data with input dtype int64 were all converted to float64 by StandardScaler.\n  return self.fit(X, y, **fit_params).transform(X)\n/opt/conda/envs/Python36/lib/python3.6/site-packages/sklearn/pipeline.py:331: DataConversionWarning: Data with input dtype int64 were all converted to float64 by StandardScaler.\n  Xt = transform.transform(Xt)\n/opt/conda/envs/Python36/lib/python3.6/site-packages/sklearn/pipeline.py:511: DataConversionWarning: Data with input dtype int64 were all converted to float64 by StandardScaler.\n  Xt = transform.transform(Xt)\n",
                    "name": "stderr"
                }
            ]
        },
        {
            "metadata": {},
            "cell_type": "markdown",
            "source": "<b>Question 9</b>: Create and fit a Ridge regression object using the training data, setting the regularization parameter to 0.1 and calculate the $R^{2}$ using the test data. Take a screenshot of your code and the $R^{2}$\n"
        },
        {
            "metadata": {},
            "cell_type": "code",
            "source": "from sklearn.linear_model import Ridge\nRidgeModel = Ridge(alpha=0.1) \nRidgeModel.fit(x_train, y_train)\nprint (\"The R-square is:\", RidgeModel.score(x_test, y_test))",
            "execution_count": 120,
            "outputs": [
                {
                    "output_type": "stream",
                    "text": "The R-square is: 0.6385473233652155\n",
                    "name": "stdout"
                }
            ]
        },
        {
            "metadata": {},
            "cell_type": "markdown",
            "source": "<b>Question 10 </b>: Perform a 2nd order polynomial transform on both the training data and testing data.  Create and fit a Ridge regression object using the training data, setting the regularization parameter to 0.1. Calculate the $R^{2}$ utilizing the test data provided. Take a screen-shot of your code and the $R^{2}$. \n"
        },
        {
            "metadata": {},
            "cell_type": "code",
            "source": "pr = PolynomialFeatures(degree=2)\nx_train_pr = pr.fit_transform(x_train[['country', 'beer_servings', 'spirit_servings', 'wine_servings', 'continent']])\nx_test_pr = pr.fit_transform(x_test[['country', 'beer_servings', 'spirit_servings', 'wine_servings', 'continent']])\n\nRidgeModel=Ridge(alpha=0.1)\nRidgeModel.fit(x_train_pr, y_train)\n\nprint('R Squared:', RidgeModel.score(x_test_pr, y_test))",
            "execution_count": 121,
            "outputs": [
                {
                    "output_type": "stream",
                    "text": "R Squared: 0.7099979819516083\n",
                    "name": "stdout"
                }
            ]
        },
        {
            "metadata": {},
            "cell_type": "markdown",
            "source": "<a href=\"https://dataplatform.cloud.ibm.com/docs/content/wsj/analyze-data/share-notebooks.html\\\" > CLICK HERE </a>  to see how to share your notebook\n"
        },
        {
            "metadata": {},
            "cell_type": "markdown",
            "source": "<b>Sources</b>\n"
        },
        {
            "metadata": {},
            "cell_type": "markdown",
            "source": "<a href=https://fivethirtyeight.com/features/dear-mona-followup-where-do-people-drink-the-most-beer-wine-and-spirits/> Dear Mona Followup: Where Do People Drink The Most Beer, Wine And Spirits?</a> by By Mona Chalabi , you can download the dataset <a href=https://github.com/fivethirtyeight/data/tree/master/alcohol-consumption>here</a>.\n"
        },
        {
            "metadata": {},
            "cell_type": "markdown",
            "source": "### Thank you for completing this lab!\n\n## Author\n\n<a href=\"https://www.linkedin.com/in/joseph-s-50398b136/\" target=\"_blank\">Joseph Santarcangelo</a>\n\n## Change Log\n\n| Date (YYYY-MM-DD) | Version | Changed By | Change Description                 |\n| ----------------- | ------- | ---------- | ---------------------------------- |\n| 2020-08-27        | 2.0     | Lavanya    | Moved lab to course repo in GitLab |\n\n<hr>\n\n## <h3 align=\"center\"> \u00a9 IBM Corporation 2020. All rights reserved. <h3/>\n"
        }
    ],
    "metadata": {
        "kernelspec": {
            "name": "python3",
            "display_name": "Python 3.6",
            "language": "python"
        },
        "language_info": {
            "name": "python",
            "version": "3.6.9",
            "mimetype": "text/x-python",
            "codemirror_mode": {
                "name": "ipython",
                "version": 3
            },
            "pygments_lexer": "ipython3",
            "nbconvert_exporter": "python",
            "file_extension": ".py"
        }
    },
    "nbformat": 4,
    "nbformat_minor": 2
}